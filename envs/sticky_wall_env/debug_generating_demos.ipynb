{
 "cells": [
  {
   "cell_type": "code",
   "execution_count": 1,
   "id": "d74d460f",
   "metadata": {},
   "outputs": [
    {
     "name": "stderr",
     "output_type": "stream",
     "text": [
      "\n"
     ]
    }
   ],
   "source": [
    "import gym\n",
    "from generate_demos import generate_demos\n",
    "from matplotlib import pyplot as plt\n",
    "import numpy as np"
   ]
  },
  {
   "cell_type": "code",
   "execution_count": 2,
   "id": "fcf0719b",
   "metadata": {},
   "outputs": [],
   "source": [
    "figsize = (8, 8)"
   ]
  },
  {
   "cell_type": "markdown",
   "id": "957ebf3a",
   "metadata": {},
   "source": [
    "### Generating demos for our familiar maze-walls-010"
   ]
  },
  {
   "cell_type": "code",
   "execution_count": 3,
   "id": "b05ac61a",
   "metadata": {},
   "outputs": [
    {
     "data": {
      "text/plain": [
       "(-0.5, 649.5, 649.5, -0.5)"
      ]
     },
     "execution_count": 3,
     "metadata": {},
     "output_type": "execute_result"
    },
    {
     "data": {
      "image/png": "[encoded data removed]",
      "text/plain": [
       "<Figure size 400x400 with 1 Axes>"
      ]
     },
     "metadata": {
      "needs_background": "light"
     },
     "output_type": "display_data"
    }
   ],
   "source": [
    "traj_points = [[5, 4.5], [7, 4.5], [8, 7]]\n",
    "\n",
    "image = generate_demos(\n",
    "    env_name=\"maze-walls-010\",\n",
    "    num_demos=1,\n",
    "    num_steps=50,\n",
    "    noise=0.25,\n",
    "    tol=0.05,\n",
    "    save_dir=None,\n",
    "    traj_points=traj_points,\n",
    "    return_sample_demo=True,\n",
    ")\n",
    "\n",
    "plt.figure(figsize=figsize)\n",
    "plt.imshow(image, cmap=plt.cm.get_cmap(\"binary\"))\n",
    "plt.axis(\"off\")"
   ]
  },
  {
   "cell_type": "markdown",
   "id": "30a278b7",
   "metadata": {},
   "source": [
    "### Generating demos for maze-config0"
   ]
  },
  {
   "cell_type": "code",
   "execution_count": 4,
   "id": "2c80840c",
   "metadata": {},
   "outputs": [
    {
     "name": "stdout",
     "output_type": "stream",
     "text": [
      "(13, 13)\n"
     ]
    },
    {
     "data": {
      "text/plain": [
       "(-0.5, 649.5, 649.5, -0.5)"
      ]
     },
     "execution_count": 4,
     "metadata": {},
     "output_type": "execute_result"
    },
    {
     "data": {
      "image/png": "[encoded data removed]",
      "text/plain": [
       "<Figure size 400x400 with 1 Axes>"
      ]
     },
     "metadata": {
      "needs_background": "light"
     },
     "output_type": "display_data"
    }
   ],
   "source": [
    "env = gym.make(\"maze-config0\")\n",
    "\n",
    "print(env.grid.shape)\n",
    "\n",
    "image = env.render()\n",
    "plt.figure(figsize=figsize)\n",
    "plt.imshow(image, cmap=plt.cm.get_cmap(\"binary\"))\n",
    "plt.axis(\"off\")"
   ]
  },
  {
   "cell_type": "code",
   "execution_count": 5,
   "id": "b633bdce",
   "metadata": {},
   "outputs": [],
   "source": [
    "# traj_points = [[4.5, 1.5],[4.5, 4.5], [7.5, 4.5], [7.5, 7.5], [10.5, 8.0]]\n",
    "\n",
    "# image = generate_demos(\n",
    "#     env_name=\"maze-config0\",\n",
    "#     num_demos=50,\n",
    "#     num_steps=50,\n",
    "#     noise=0.25,\n",
    "#     tol=0.05,\n",
    "#     save_dir=\"/iris/u/tajwar/reset_free_learning/earl_benchmark/demonstrations/maze-config0/forward/\",\n",
    "#     traj_points=traj_points,\n",
    "#     return_sample_demo=True,\n",
    "# )\n",
    "\n",
    "# plt.figure(figsize=figsize)\n",
    "# plt.imshow(image, cmap=plt.cm.get_cmap(\"binary\"))\n",
    "# plt.axis(\"off\")"
   ]
  },
  {
   "cell_type": "markdown",
   "id": "27948b11",
   "metadata": {},
   "source": [
    "### Generating demos for maze-config1"
   ]
  },
  {
   "cell_type": "code",
   "execution_count": 6,
   "id": "5d669400",
   "metadata": {},
   "outputs": [
    {
     "data": {
      "text/plain": [
       "(-0.5, 649.5, 649.5, -0.5)"
      ]
     },
     "execution_count": 6,
     "metadata": {},
     "output_type": "execute_result"
    },
    {
     "data": {
      "image/png": "[encoded data removed]",
      "text/plain": [
       "<Figure size 400x400 with 1 Axes>"
      ]
     },
     "metadata": {
      "needs_background": "light"
     },
     "output_type": "display_data"
    }
   ],
   "source": [
    "traj_points = [[10.5, 1.5]]\n",
    "\n",
    "image = generate_demos(\n",
    "    env_name=\"maze-config1\",\n",
    "    num_demos=50,\n",
    "    num_steps=50,\n",
    "    noise=0.20,\n",
    "    tol=0.05,\n",
    "    save_dir=\"/iris/u/tajwar/reset_free_learning/earl_benchmark/demonstrations/maze-config1/forward/\",\n",
    "    traj_points=traj_points,\n",
    "    return_sample_demo=True,\n",
    ")\n",
    "\n",
    "plt.figure(figsize=figsize)\n",
    "plt.imshow(image, cmap=plt.cm.get_cmap(\"binary\"))\n",
    "plt.axis(\"off\")"
   ]
  },
  {
   "cell_type": "markdown",
   "id": "27853627",
   "metadata": {},
   "source": [
    "### Generating demos for maze-config2"
   ]
  },
  {
   "cell_type": "code",
   "execution_count": 7,
   "id": "20516076",
   "metadata": {},
   "outputs": [
    {
     "data": {
      "text/plain": [
       "(-0.5, 649.5, 649.5, -0.5)"
      ]
     },
     "execution_count": 7,
     "metadata": {},
     "output_type": "execute_result"
    },
    {
     "data": {
      "image/png": "[encoded data removed]",
      "text/plain": [
       "<Figure size 400x400 with 1 Axes>"
      ]
     },
     "metadata": {
      "needs_background": "light"
     },
     "output_type": "display_data"
    }
   ],
   "source": [
    "traj_points = [[7.5, 1.5], [7.5, 7.5], [10.5, 7.5]]\n",
    "\n",
    "image = generate_demos(\n",
    "    env_name=\"maze-config2\",\n",
    "    num_demos=50,\n",
    "    num_steps=50,\n",
    "    noise=0.20,\n",
    "    tol=0.05,\n",
    "    save_dir=\"/iris/u/tajwar/reset_free_learning/earl_benchmark/demonstrations/maze-config2/forward/\",\n",
    "    traj_points=traj_points,\n",
    "    return_sample_demo=True,\n",
    ")\n",
    "\n",
    "plt.figure(figsize=figsize)\n",
    "plt.imshow(image, cmap=plt.cm.get_cmap(\"binary\"))\n",
    "plt.axis(\"off\")"
   ]
  },
  {
   "cell_type": "markdown",
   "id": "47040f9c",
   "metadata": {},
   "source": [
    "### Generating demos for maze-config3"
   ]
  },
  {
   "cell_type": "code",
   "execution_count": 8,
   "id": "153f4d9b",
   "metadata": {},
   "outputs": [
    {
     "data": {
      "text/plain": [
       "(-0.5, 649.5, 649.5, -0.5)"
      ]
     },
     "execution_count": 8,
     "metadata": {},
     "output_type": "execute_result"
    },
    {
     "data": {
      "image/png": "[encoded data removed]",
      "text/plain": [
       "<Figure size 400x400 with 1 Axes>"
      ]
     },
     "metadata": {
      "needs_background": "light"
     },
     "output_type": "display_data"
    }
   ],
   "source": [
    "traj_points = [[10.5, 7.5],[4.5, 7.5], [4.5, 4.5], [1.5, 4.5]]\n",
    "\n",
    "image = generate_demos(\n",
    "    env_name=\"maze-config3\",\n",
    "    num_demos=50,\n",
    "    num_steps=50,\n",
    "    noise=0.20,\n",
    "    tol=0.05,\n",
    "    save_dir=\"/iris/u/tajwar/reset_free_learning/earl_benchmark/demonstrations/maze-config3/forward/\",\n",
    "    traj_points=traj_points,\n",
    "    return_sample_demo=True,\n",
    ")\n",
    "\n",
    "plt.figure(figsize=figsize)\n",
    "plt.imshow(image, cmap=plt.cm.get_cmap(\"binary\"))\n",
    "plt.axis(\"off\")"
   ]
  },
  {
   "cell_type": "markdown",
   "id": "0cd43554",
   "metadata": {},
   "source": [
    "### Generating demos for maze-config5"
   ]
  },
  {
   "cell_type": "code",
   "execution_count": 9,
   "id": "22759fdf",
   "metadata": {},
   "outputs": [
    {
     "data": {
      "text/plain": [
       "(-0.5, 649.5, 649.5, -0.5)"
      ]
     },
     "execution_count": 9,
     "metadata": {},
     "output_type": "execute_result"
    },
    {
     "data": {
      "image/png": "[encoded data removed]",
      "text/plain": [
       "<Figure size 400x400 with 1 Axes>"
      ]
     },
     "metadata": {
      "needs_background": "light"
     },
     "output_type": "display_data"
    }
   ],
   "source": [
    "traj_points = [[7.5, 10], [7.5, 7.5], [4.5, 7.5], [4.5, 4.5], [1.5, 4.5]]\n",
    "\n",
    "image = generate_demos(\n",
    "    env_name=\"maze-config5\",\n",
    "    num_demos=50,\n",
    "    num_steps=50,\n",
    "    noise=0.20,\n",
    "    tol=0.05,\n",
    "    save_dir=\"/iris/u/tajwar/reset_free_learning/earl_benchmark/demonstrations/maze-config5/forward/\",\n",
    "    traj_points=traj_points,\n",
    "    return_sample_demo=True,\n",
    ")\n",
    "\n",
    "plt.figure(figsize=figsize)\n",
    "plt.imshow(image, cmap=plt.cm.get_cmap(\"binary\"))\n",
    "plt.axis(\"off\")"
   ]
  }
 ],
 "metadata": {
  "kernelspec": {
   "display_name": "Python 3 (ipykernel)",
   "language": "python",
   "name": "python3"
  },
  "language_info": {
   "codemirror_mode": {
    "name": "ipython",
    "version": 3
   },
   "file_extension": ".py",
   "mimetype": "text/x-python",
   "name": "python",
   "nbconvert_exporter": "python",
   "pygments_lexer": "ipython3",
   "version": "3.8.12"
  }
 },
 "nbformat": 4,
 "nbformat_minor": 5
}
